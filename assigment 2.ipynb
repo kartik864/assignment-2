{
 "cells": [
  {
   "cell_type": "code",
   "execution_count": 1,
   "id": "dae5ff69-2c11-456e-ab93-c5bebe993783",
   "metadata": {},
   "outputs": [
    {
     "name": "stdout",
     "output_type": "stream",
     "text": [
      "14\n"
     ]
    }
   ],
   "source": [
    "\n",
    "#q1 \n",
    "a=5\n",
    "b=9\n",
    "print(a+b)"
   ]
  },
  {
   "cell_type": "code",
   "execution_count": 2,
   "id": "94c57426-032a-4c53-a125-97bdf47f01bc",
   "metadata": {},
   "outputs": [
    {
     "name": "stdout",
     "output_type": "stream",
     "text": [
      "-4\n"
     ]
    }
   ],
   "source": [
    "print(a-b)"
   ]
  },
  {
   "cell_type": "code",
   "execution_count": 3,
   "id": "0d4458b1-e129-4712-8f97-2a2c8cc747d5",
   "metadata": {},
   "outputs": [
    {
     "data": {
      "text/plain": [
       "45"
      ]
     },
     "execution_count": 3,
     "metadata": {},
     "output_type": "execute_result"
    }
   ],
   "source": [
    "a*b"
   ]
  },
  {
   "cell_type": "code",
   "execution_count": 4,
   "id": "66041613-f141-4b00-9e71-78627c68f7bf",
   "metadata": {},
   "outputs": [
    {
     "data": {
      "text/plain": [
       "0.5555555555555556"
      ]
     },
     "execution_count": 4,
     "metadata": {},
     "output_type": "execute_result"
    }
   ],
   "source": [
    "a/b\n"
   ]
  },
  {
   "cell_type": "code",
   "execution_count": 5,
   "id": "48ff6a73-5e42-4f0c-bdd0-7c523a81b376",
   "metadata": {},
   "outputs": [],
   "source": [
    "#q2\n",
    "a=4"
   ]
  },
  {
   "cell_type": "code",
   "execution_count": 7,
   "id": "96d73894-f0bd-4eff-a21b-af6c0df4589a",
   "metadata": {},
   "outputs": [],
   "source": [
    "a+=5"
   ]
  },
  {
   "cell_type": "code",
   "execution_count": 8,
   "id": "726afb24-5d07-493c-b13c-9a8cbb98db2e",
   "metadata": {},
   "outputs": [
    {
     "data": {
      "text/plain": [
       "13"
      ]
     },
     "execution_count": 8,
     "metadata": {},
     "output_type": "execute_result"
    }
   ],
   "source": [
    "a"
   ]
  },
  {
   "cell_type": "code",
   "execution_count": 9,
   "id": "6a251376-a59e-4748-8ee6-537a02f973b2",
   "metadata": {},
   "outputs": [],
   "source": [
    "a*=5"
   ]
  },
  {
   "cell_type": "code",
   "execution_count": 10,
   "id": "e2955084-bd61-40cb-bf0c-8309d8279576",
   "metadata": {},
   "outputs": [
    {
     "data": {
      "text/plain": [
       "65"
      ]
     },
     "execution_count": 10,
     "metadata": {},
     "output_type": "execute_result"
    }
   ],
   "source": [
    "a"
   ]
  },
  {
   "cell_type": "code",
   "execution_count": 11,
   "id": "ca985d7f-63b1-4262-b147-5d0694e24b0f",
   "metadata": {},
   "outputs": [],
   "source": [
    "a/=3"
   ]
  },
  {
   "cell_type": "code",
   "execution_count": 12,
   "id": "5b101cd1-5315-4481-8356-db7dd682a9fc",
   "metadata": {},
   "outputs": [
    {
     "data": {
      "text/plain": [
       "21.666666666666668"
      ]
     },
     "execution_count": 12,
     "metadata": {},
     "output_type": "execute_result"
    }
   ],
   "source": [
    "a"
   ]
  },
  {
   "cell_type": "code",
   "execution_count": 13,
   "id": "54a26f1e-fc97-4832-8ab7-2b1e0edac43a",
   "metadata": {},
   "outputs": [],
   "source": [
    "a-=.666666666"
   ]
  },
  {
   "cell_type": "code",
   "execution_count": 14,
   "id": "9c71db7d-470b-45d2-928f-12d4f7b0ed77",
   "metadata": {},
   "outputs": [
    {
     "data": {
      "text/plain": [
       "21.000000000666667"
      ]
     },
     "execution_count": 14,
     "metadata": {},
     "output_type": "execute_result"
    }
   ],
   "source": [
    "a"
   ]
  },
  {
   "cell_type": "code",
   "execution_count": 15,
   "id": "586328da-b117-4902-bd96-144f7bd8f9a7",
   "metadata": {},
   "outputs": [],
   "source": [
    "a**=2"
   ]
  },
  {
   "cell_type": "code",
   "execution_count": 16,
   "id": "1afff01b-a528-4bad-8f8d-a3e92462648d",
   "metadata": {},
   "outputs": [
    {
     "data": {
      "text/plain": [
       "441.000000028"
      ]
     },
     "execution_count": 16,
     "metadata": {},
     "output_type": "execute_result"
    }
   ],
   "source": [
    "a"
   ]
  },
  {
   "cell_type": "code",
   "execution_count": 20,
   "id": "de712153-a0e5-4fb5-aa0b-d77d753ce2b1",
   "metadata": {},
   "outputs": [
    {
     "data": {
      "text/plain": [
       "True"
      ]
     },
     "execution_count": 20,
     "metadata": {},
     "output_type": "execute_result"
    }
   ],
   "source": [
    "#Q3\n",
    "a=7\n",
    "b=4\n",
    "a>b"
   ]
  },
  {
   "cell_type": "code",
   "execution_count": 21,
   "id": "c0703006-a700-422d-a3d9-1cad7e313026",
   "metadata": {},
   "outputs": [
    {
     "name": "stdout",
     "output_type": "stream",
     "text": [
      "true\n"
     ]
    }
   ],
   "source": [
    "#Q4\n",
    "a=5\n",
    "b=7\n",
    "if a<b:\n",
    "    print(\"true\")\n",
    "else:\n",
    "    print(\"false\")"
   ]
  },
  {
   "cell_type": "code",
   "execution_count": 30,
   "id": "75d65934-ecd4-4dd3-a4ea-6a60a8dc76eb",
   "metadata": {},
   "outputs": [],
   "source": [
    " #Q5\n",
    "a=2\n",
    "b=5"
   ]
  },
  {
   "cell_type": "code",
   "execution_count": 28,
   "id": "4de6d7df-9c88-4f21-a134-aa5b0c8d4c79",
   "metadata": {},
   "outputs": [
    {
     "data": {
      "text/plain": [
       "139802464977168"
      ]
     },
     "execution_count": 28,
     "metadata": {},
     "output_type": "execute_result"
    }
   ],
   "source": [
    "id(a)"
   ]
  },
  {
   "cell_type": "code",
   "execution_count": 29,
   "id": "7e15d301-cf7b-4597-991a-f31b5fe94d29",
   "metadata": {},
   "outputs": [
    {
     "data": {
      "text/plain": [
       "139802464977264"
      ]
     },
     "execution_count": 29,
     "metadata": {},
     "output_type": "execute_result"
    }
   ],
   "source": [
    "id(b)"
   ]
  },
  {
   "cell_type": "code",
   "execution_count": 31,
   "id": "34df6177-34d3-46e7-8cae-6076af0e768a",
   "metadata": {},
   "outputs": [
    {
     "data": {
      "text/plain": [
       "'0b111'"
      ]
     },
     "execution_count": 31,
     "metadata": {},
     "output_type": "execute_result"
    }
   ],
   "source": [
    "#Q6\n",
    "a=7\n",
    "b=9\n",
    "bin(a)"
   ]
  },
  {
   "cell_type": "code",
   "execution_count": 32,
   "id": "58374d15-ee23-47d2-b0bd-540810b88402",
   "metadata": {},
   "outputs": [
    {
     "data": {
      "text/plain": [
       "'0b1001'"
      ]
     },
     "execution_count": 32,
     "metadata": {},
     "output_type": "execute_result"
    }
   ],
   "source": [
    "bin(b)"
   ]
  },
  {
   "cell_type": "code",
   "execution_count": 33,
   "id": "091ad361-80a8-4e51-af3a-ddb5066fe828",
   "metadata": {},
   "outputs": [],
   "source": [
    "#Q7"
   ]
  },
  {
   "cell_type": "code",
   "execution_count": 34,
   "id": "857c35b1-6608-4d0b-96df-8b1aa630f0ba",
   "metadata": {},
   "outputs": [],
   "source": [
    "a=5"
   ]
  },
  {
   "cell_type": "code",
   "execution_count": 35,
   "id": "4d081d06-dc6f-4cd9-a4cf-9c473018e551",
   "metadata": {},
   "outputs": [
    {
     "data": {
      "text/plain": [
       "-6"
      ]
     },
     "execution_count": 35,
     "metadata": {},
     "output_type": "execute_result"
    }
   ],
   "source": [
    "~a"
   ]
  },
  {
   "cell_type": "code",
   "execution_count": null,
   "id": "3e0c5149-c690-4ca8-9e2c-793c21fc571c",
   "metadata": {},
   "outputs": [],
   "source": [
    "#Q8\n",
    "a=3\n",
    "b=5\n",
    "c=8\n",
    "if a+b==c:\n",
    "    print(\"you done right\")\n",
    "else:\n",
    "    print(\" do \")"
   ]
  }
 ],
 "metadata": {
  "kernelspec": {
   "display_name": "Python 3 (ipykernel)",
   "language": "python",
   "name": "python3"
  },
  "language_info": {
   "codemirror_mode": {
    "name": "ipython",
    "version": 3
   },
   "file_extension": ".py",
   "mimetype": "text/x-python",
   "name": "python",
   "nbconvert_exporter": "python",
   "pygments_lexer": "ipython3",
   "version": "3.10.8"
  }
 },
 "nbformat": 4,
 "nbformat_minor": 5
}
